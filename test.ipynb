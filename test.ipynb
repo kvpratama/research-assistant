{
 "cells": [
  {
   "cell_type": "code",
   "execution_count": 1,
   "id": "649cc677",
   "metadata": {},
   "outputs": [
    {
     "name": "stdout",
     "output_type": "stream",
     "text": [
      "=== Debugging LangGraph API ===\n"
     ]
    }
   ],
   "source": [
    "import requests\n",
    "import json\n",
    "\n",
    "# Debug your LangGraph API\n",
    "BASE_URL = \"http://127.0.0.1:2024\"\n",
    "\n",
    "# First, let's check what's available\n",
    "print(\"=== Debugging LangGraph API ===\")\n"
   ]
  },
  {
   "cell_type": "code",
   "execution_count": 2,
   "id": "433e6149",
   "metadata": {},
   "outputs": [
    {
     "name": "stdout",
     "output_type": "stream",
     "text": [
      "\n",
      "2. Checking OpenAPI schema...\n",
      "✅ Available endpoints: ['/assistants', '/assistants/search', '/assistants/{assistant_id}', '/assistants/{assistant_id}/graph', '/assistants/{assistant_id}/subgraphs', '/assistants/{assistant_id}/subgraphs/{namespace}', '/assistants/{assistant_id}/schemas', '/assistants/{assistant_id}/versions', '/assistants/{assistant_id}/latest', '/threads', '/threads/search', '/threads/{thread_id}/state', '/threads/{thread_id}/state/{checkpoint_id}', '/threads/{thread_id}/state/checkpoint', '/threads/{thread_id}/history', '/threads/{thread_id}/copy', '/threads/{thread_id}', '/threads/{thread_id}/runs', '/threads/{thread_id}/runs/crons', '/threads/{thread_id}/runs/stream', '/threads/{thread_id}/runs/wait', '/threads/{thread_id}/runs/{run_id}', '/threads/{thread_id}/runs/{run_id}/join', '/threads/{thread_id}/runs/{run_id}/stream', '/threads/{thread_id}/runs/{run_id}/cancel', '/runs/crons', '/runs/crons/search', '/runs/stream', '/runs/cancel', '/runs/wait', '/runs', '/runs/batch', '/runs/crons/{cron_id}', '/store/items', '/store/items/search', '/store/namespaces', '/mcp/']\n"
     ]
    }
   ],
   "source": [
    "# 2. Check available endpoints\n",
    "try:\n",
    "    print(\"\\n2. Checking OpenAPI schema...\")\n",
    "    response = requests.get(f\"{BASE_URL}/openapi.json\")\n",
    "    if response.status_code == 200:\n",
    "        openapi = response.json()\n",
    "        paths = list(openapi.get('paths', {}).keys())\n",
    "        print(f\"✅ Available endpoints: {paths}\")\n",
    "    else:\n",
    "        print(f\"⚠️  OpenAPI not available (status: {response.status_code})\")\n",
    "except Exception as e:\n",
    "    print(f\"⚠️  Could not get OpenAPI: {e}\")"
   ]
  },
  {
   "cell_type": "code",
   "execution_count": 3,
   "id": "6eb6ebc9",
   "metadata": {},
   "outputs": [
    {
     "name": "stdout",
     "output_type": "stream",
     "text": [
      "Method 1: POST with empty JSON...\n",
      "Status: 200\n",
      "✅ Success: {'thread_id': '6560100a-53fb-4bb5-8e95-d87d7fb6df10', 'created_at': '2025-06-04T08:51:19.913230+00:00', 'updated_at': '2025-06-04T08:51:19.913230+00:00', 'metadata': {}, 'status': 'idle', 'config': {}, 'values': None}\n"
     ]
    },
    {
     "data": {
      "text/plain": [
       "'6560100a-53fb-4bb5-8e95-d87d7fb6df10'"
      ]
     },
     "execution_count": 3,
     "metadata": {},
     "output_type": "execute_result"
    }
   ],
   "source": [
    "# Method 1: POST with empty JSON body\n",
    "try:\n",
    "    print(\"Method 1: POST with empty JSON...\")\n",
    "    response = requests.post(f\"{BASE_URL}/threads\", json={})\n",
    "    print(f\"Status: {response.status_code}\")\n",
    "    if response.status_code == 200:\n",
    "        print(f\"✅ Success: {response.json()}\")\n",
    "    else:\n",
    "        print(f\"❌ Failed: {response.text}\")\n",
    "except Exception as e:\n",
    "    print(f\"❌ Error: {e}\")\n",
    "\n",
    "thread_id = response.json().get(\"thread_id\")\n",
    "thread_id"
   ]
  },
  {
   "cell_type": "code",
   "execution_count": 4,
   "id": "98d7aa56",
   "metadata": {},
   "outputs": [],
   "source": [
    "input_data = {\n",
    "    \"topic\": \"AI in education\",\n",
    "    \"max_analysts\": 3,\n",
    "    # \"human_analyst_feedback\": []\n",
    "}"
   ]
  },
  {
   "cell_type": "code",
   "execution_count": 5,
   "id": "14986d20",
   "metadata": {},
   "outputs": [
    {
     "name": "stdout",
     "output_type": "stream",
     "text": [
      "✅ Assistant created: fd9ed532-7a6d-43af-bda9-90e314015933\n"
     ]
    }
   ],
   "source": [
    "response = requests.post(\"http://127.0.0.1:2024/assistants\",\n",
    "    headers={\n",
    "      \"Content-Type\": \"application/json\"\n",
    "    },\n",
    "    json={\n",
    "      \"assistant_id\": \"\",\n",
    "      \"graph_id\": \"create_analysts\",\n",
    "      \"config\": {},\n",
    "      \"metadata\": {},\n",
    "      \"if_exists\": \"raise\",\n",
    "      \"name\": \"\",\n",
    "      \"description\": \"null\"\n",
    "    }\n",
    ")\n",
    "assistant_id = response.json()[\"assistant_id\"]\n",
    "print(f\"✅ Assistant created: {assistant_id}\")"
   ]
  },
  {
   "cell_type": "code",
   "execution_count": 6,
   "id": "1e51af7c",
   "metadata": {},
   "outputs": [
    {
     "name": "stdout",
     "output_type": "stream",
     "text": [
      "Run wait response: {'topic': 'AI in education', 'max_analysts': 3, 'human_analyst_feedback': [], 'analysts': [{'affiliation': 'University of Innovation', 'name': 'Dr. Anya Sharma', 'role': 'AI Implementation Specialist', 'description': 'Focuses on the practical application of AI in classrooms. Concerns include equitable access, teacher training, and measuring learning outcomes. Motivated by improving student success and making education more engaging.'}, {'affiliation': 'Ethical AI Institute', 'name': 'Mr. Kenji Tanaka', 'role': 'AI Ethics Analyst', 'description': 'Concerned with the ethical implications of AI in education, including data privacy, algorithmic bias, and the impact on human interaction. Motivated by ensuring responsible AI development and deployment in education.'}, {'affiliation': 'Global Education Fund', 'name': 'Ms. Fatima Khan', 'role': 'Education Technology Investor', 'description': 'Analyzes the financial aspects of AI in education, including investment opportunities, cost-effectiveness, and the long-term economic impact. Motivated by identifying sustainable and scalable AI solutions for educational systems.'}]}\n"
     ]
    }
   ],
   "source": [
    "response = requests.post(\n",
    "    f\"http://127.0.0.1:2024/threads/{thread_id}/runs/wait\",\n",
    "    headers={\n",
    "      \"Content-Type\": \"application/json\"\n",
    "    },\n",
    "    json={\n",
    "      \"assistant_id\": f\"{assistant_id}\",\n",
    "      \"input\": input_data,\n",
    "      },\n",
    ")\n",
    "print(f\"Run wait response: {response.json()}\")"
   ]
  },
  {
   "cell_type": "code",
   "execution_count": 7,
   "id": "09ad2265",
   "metadata": {},
   "outputs": [
    {
     "name": "stdout",
     "output_type": "stream",
     "text": [
      "Run wait response: {'topic': 'AI in education', 'max_analysts': 3, 'human_analyst_feedback': ['add analysts from goverment'], 'analysts': [{'affiliation': 'University of Innovation', 'name': 'Dr. Anya Sharma', 'role': 'AI Implementation Specialist', 'description': 'Focuses on the practical application of AI in classrooms. Concerns include equitable access, teacher training, and measuring learning outcomes. Motivated by improving student success and making education more engaging.'}, {'affiliation': 'Ethical AI Institute', 'name': 'Mr. Kenji Tanaka', 'role': 'AI Ethics Analyst', 'description': 'Concerned with the ethical implications of AI in education, including data privacy, algorithmic bias, and the impact on human interaction. Motivated by ensuring responsible AI development and deployment in education.'}, {'affiliation': 'Global Education Fund', 'name': 'Ms. Fatima Khan', 'role': 'Education Technology Investor', 'description': 'Analyzes the financial aspects of AI in education, including investment opportunities, cost-effectiveness, and the long-term economic impact. Motivated by identifying sustainable and scalable AI solutions for educational systems.'}, {'affiliation': 'Government', 'name': 'Dr. Evelyn Reed', 'role': 'Policy Analyst', 'description': 'Focuses on policy implications, funding, and regulatory aspects of AI in education. Concerned with equitable access, data privacy, and the impact on the workforce. Motivated by ensuring responsible and beneficial AI integration.'}, {'affiliation': 'Education Technology Company', 'name': 'Alex Chen', 'role': 'EdTech Strategist', 'description': 'Concentrates on developing and implementing AI-powered educational tools and platforms. Focused on improving learning outcomes, personalizing education, and market trends. Driven by innovation and creating effective learning solutions.'}, {'affiliation': 'Academic Research Institution', 'name': 'Dr. Anya Sharma', 'role': 'Educational Researcher', 'description': 'Studies the impact of AI on pedagogy, student learning, and educational equity. Concerned with ethical considerations, the validity of AI-driven assessments, and the future of teaching. Motivated by advancing knowledge and improving educational practices.'}]}\n"
     ]
    }
   ],
   "source": [
    "input_data = {\n",
    "    \"human_analyst_feedback\": [\"add analysts from goverment\"]\n",
    "}\n",
    "response = requests.post(\n",
    "    f\"http://127.0.0.1:2024/threads/{thread_id}/runs/wait\",\n",
    "    headers={\n",
    "      \"Content-Type\": \"application/json\"\n",
    "    },\n",
    "    json={\n",
    "      \"assistant_id\": f\"{assistant_id}\",\n",
    "      \"command\": {\n",
    "        \"update\": input_data,\n",
    "        \"resume\": input_data,\n",
    "        }\n",
    "      },\n",
    ")\n",
    "print(f\"Run wait response: {response.json()}\")"
   ]
  },
  {
   "cell_type": "code",
   "execution_count": 8,
   "id": "e11ac13c",
   "metadata": {},
   "outputs": [
    {
     "name": "stdout",
     "output_type": "stream",
     "text": [
      "Run wait response: {'topic': 'AI in education', 'max_analysts': 3, 'human_analyst_feedback': ['add analysts from goverment', 'approved'], 'analysts': [{'affiliation': 'University of Innovation', 'name': 'Dr. Anya Sharma', 'role': 'AI Implementation Specialist', 'description': 'Focuses on the practical application of AI in classrooms. Concerns include equitable access, teacher training, and measuring learning outcomes. Motivated by improving student success and making education more engaging.'}, {'affiliation': 'Ethical AI Institute', 'name': 'Mr. Kenji Tanaka', 'role': 'AI Ethics Analyst', 'description': 'Concerned with the ethical implications of AI in education, including data privacy, algorithmic bias, and the impact on human interaction. Motivated by ensuring responsible AI development and deployment in education.'}, {'affiliation': 'Global Education Fund', 'name': 'Ms. Fatima Khan', 'role': 'Education Technology Investor', 'description': 'Analyzes the financial aspects of AI in education, including investment opportunities, cost-effectiveness, and the long-term economic impact. Motivated by identifying sustainable and scalable AI solutions for educational systems.'}, {'affiliation': 'Government', 'name': 'Dr. Evelyn Reed', 'role': 'Policy Analyst', 'description': 'Focuses on policy implications, funding, and regulatory aspects of AI in education. Concerned with equitable access, data privacy, and the impact on the workforce. Motivated by ensuring responsible and beneficial AI integration.'}, {'affiliation': 'Education Technology Company', 'name': 'Alex Chen', 'role': 'EdTech Strategist', 'description': 'Concentrates on developing and implementing AI-powered educational tools and platforms. Focused on improving learning outcomes, personalizing education, and market trends. Driven by innovation and creating effective learning solutions.'}, {'affiliation': 'Academic Research Institution', 'name': 'Dr. Anya Sharma', 'role': 'Educational Researcher', 'description': 'Studies the impact of AI on pedagogy, student learning, and educational equity. Concerned with ethical considerations, the validity of AI-driven assessments, and the future of teaching. Motivated by advancing knowledge and improving educational practices.'}], 'final_analysts': [{'affiliation': 'University of Innovation', 'name': 'Dr. Anya Sharma', 'role': 'AI Implementation Specialist', 'description': 'Focuses on the practical application of AI in classrooms. Concerns include equitable access, teacher training, and measuring learning outcomes. Motivated by improving student success and making education more engaging.'}, {'affiliation': 'Ethical AI Institute', 'name': 'Mr. Kenji Tanaka', 'role': 'AI Ethics Analyst', 'description': 'Concerned with the ethical implications of AI in education, including data privacy, algorithmic bias, and the impact on human interaction. Motivated by ensuring responsible AI development and deployment in education.'}, {'affiliation': 'Government', 'name': 'Dr. Evelyn Reed', 'role': 'Policy Analyst', 'description': 'Focuses on policy implications, funding, and regulatory aspects of AI in education. Concerned with equitable access, data privacy, and the impact on the workforce. Motivated by ensuring responsible and beneficial AI integration.'}]}\n"
     ]
    }
   ],
   "source": [
    "input_data = {\n",
    "    \"human_analyst_feedback\": [\"approved\"]\n",
    "}\n",
    "response = requests.post(\n",
    "    f\"http://127.0.0.1:2024/threads/{thread_id}/runs/wait\",\n",
    "    headers={\n",
    "      \"Content-Type\": \"application/json\"\n",
    "    },\n",
    "    json={\n",
    "      \"assistant_id\": f\"{assistant_id}\",\n",
    "      # \"input\": input_data,\n",
    "      \"command\": {\n",
    "        \"update\": input_data,\n",
    "        \"resume\": input_data,\n",
    "        # \"goto\": {\n",
    "        #   \"node\": \"human_feedback\",\n",
    "        #   \"input\": input_data\n",
    "        # }\n",
    "      },\n",
    "    }\n",
    ")\n",
    "print(f\"Run wait response: {response.json()}\")"
   ]
  }
 ],
 "metadata": {
  "kernelspec": {
   "display_name": "pytorch",
   "language": "python",
   "name": "python3"
  },
  "language_info": {
   "codemirror_mode": {
    "name": "ipython",
    "version": 3
   },
   "file_extension": ".py",
   "mimetype": "text/x-python",
   "name": "python",
   "nbconvert_exporter": "python",
   "pygments_lexer": "ipython3",
   "version": "3.12.3"
  }
 },
 "nbformat": 4,
 "nbformat_minor": 5
}
